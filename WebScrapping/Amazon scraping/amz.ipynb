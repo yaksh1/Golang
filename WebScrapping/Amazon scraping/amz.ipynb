{
 "cells": [
  {
   "cell_type": "code",
   "execution_count": 1,
   "metadata": {},
   "outputs": [],
   "source": [
    "import time\n",
    "import datetime \n",
    "import requests\n",
    "from bs4 import BeautifulSoup\n",
    "import pandas as pd\n",
    "import smtplib"
   ]
  },
  {
   "cell_type": "code",
   "execution_count": 2,
   "metadata": {},
   "outputs": [],
   "source": [
    "#|---------------------------------------------------------------------------|#\n",
    "#| Getting website URL\n",
    "#|---------------------------------------------------------------------------|#\n",
    "url = \"https://www.amazon.in/Apple-iPhone-13-256GB-Pink/dp/B09G9HRYFZ/ref=sr_1_3?crid=1RLF2WZ5UBXBD&keywords=iphone+13&qid=1644253337&sprefix=iphone+13%2Caps%2C386&sr=8-3\"\n",
    "headers = {\"User-Agent\": \"Mozilla/5.0 (Windows NT 10.0; Win64; x64) AppleWebKit/537.36 (KHTML, like Gecko) Chrome/98.0.4758.87 Safari/537.36\",\"Accept-Encoding\": \"gzip, deflate, br\",\"Accept\": \"text/html,application/xhtml+xml,application/xml;q=0.9,image/avif,image/webp,image/apng,*/*;q=0.8,application/signed-exchange;v=b3;q=0.9\",\"Connection\":\"close\",\"Upgrade-Insecure-Requests\": \"1\",}\n",
    "\n",
    "page = requests.get(url,headers=headers)\n",
    "soup = BeautifulSoup(page.content,'html.parser')\n",
    "soup = BeautifulSoup(soup.prettify(),'html.parser')\n",
    "\n",
    "title = soup.find('span',class_='a-size-large product-title-word-break').text.strip()\n",
    "price = soup.find('span',class_='a-offscreen').text.strip()[1:]"
   ]
  },
  {
   "cell_type": "code",
   "execution_count": 3,
   "metadata": {},
   "outputs": [],
   "source": [
    "#|---------------------------------------------------------------------------|#\n",
    "#| Creating Date column\n",
    "#|---------------------------------------------------------------------------|#\n",
    "today = datetime.date.today()\n"
   ]
  },
  {
   "cell_type": "code",
   "execution_count": 4,
   "metadata": {},
   "outputs": [],
   "source": [
    "#|---------------------------------------------------------------------------|#\n",
    "#| Create csv file and import data to create dataset\n",
    "#|---------------------------------------------------------------------------|#\n",
    "import csv\n",
    "header = ['Title','Price','Date']\n",
    "data = [title,price,today]\n",
    "# with open('C:\\\\Users\\\\91635\\\\Desktop\\\\Projects\\\\WebScrapping\\\\Amazon scraping\\\\AmznWebScraping.csv','w',newline='',encoding='UTF8') as f:\n",
    "#   writer=csv.writer(f)\n",
    "#   writer.writerow(header)\n",
    "#   writer.writerow(data)"
   ]
  },
  {
   "cell_type": "code",
   "execution_count": 5,
   "metadata": {},
   "outputs": [],
   "source": [
    "#|---------------------------------------------------------------------------|#\n",
    "#| To read the file quickly\n",
    "#|---------------------------------------------------------------------------|#\n",
    "# df = pd.read_csv('C:\\\\Users\\\\91635\\\\Desktop\\\\Projects\\\\WebScrapping\\\\Amazon scraping\\\\AmznWebScraping.csv')\n",
    "# print(df)"
   ]
  },
  {
   "cell_type": "code",
   "execution_count": 6,
   "metadata": {},
   "outputs": [],
   "source": [
    "#|---------------------------------------------------------------------------|#\n",
    "#| Now we are appending data\n",
    "#|---------------------------------------------------------------------------|#\n",
    "with open('C:\\\\Users\\\\91635\\\\Desktop\\\\Projects\\\\WebScrapping\\\\Amazon scraping\\\\AmznWebScraping.csv','a',newline='',encoding='UTF8') as f:\n",
    "  writer=csv.writer(f)\n",
    "  writer.writerow(data)   "
   ]
  },
  {
   "cell_type": "code",
   "execution_count": 7,
   "metadata": {},
   "outputs": [],
   "source": [
    "#|---------------------------------------------------------------------------|#\n",
    "#| Now we are automating the process\n",
    "#|---------------------------------------------------------------------------|#\n",
    "\n",
    "def check_details():\n",
    "  \n",
    "\n",
    "  url = \"https://www.amazon.in/Apple-iPhone-13-256GB-Pink/dp/B09G9HRYFZ/ref=sr_1_3?crid=1RLF2WZ5UBXBD&keywords=iphone+13&qid=1644253337&sprefix=iphone+13%2Caps%2C386&sr=8-3\"\n",
    "\n",
    "  headers = {\"User-Agent\": \"Mozilla/5.0 (Windows NT 10.0; Win64; x64) AppleWebKit/537.36 (KHTML, like Gecko) Chrome/98.0.4758.87 Safari/537.36\",\"Accept-Encoding\": \"gzip, deflate, br\",\"Accept\": \"text/html,application/xhtml+xml,application/xml;q=0.9,image/avif,image/webp,image/apng,*/*;q=0.8,application/signed-exchange;v=b3;q=0.9\",\"Connection\":\"close\",\"Upgrade-Insecure-Requests\": \"1\",}\n",
    "\n",
    "  page = requests.get(url,headers=headers)\n",
    "\n",
    "  soup = BeautifulSoup(page.content,'html.parser')\n",
    "  soup = BeautifulSoup(soup.prettify(),'html.parser')\n",
    "\n",
    "  title = soup.find('span',class_='a-size-large product-title-word-break').text.strip()\n",
    "  price = soup.find('span',class_='a-offscreen').text.strip()[1:]\n",
    "\n",
    "  \n",
    "  today = datetime.date.today()\n",
    "  \n",
    "  import csv\n",
    "  \n",
    "  header = ['Title','Price','Date']\n",
    "  data = [title,price,today]\n",
    "\n",
    "  # df = pd.read_csv('C:\\\\Users\\\\91635\\\\Desktop\\\\Projects\\\\WebScrapping\\\\Amazon scraping\\\\AmznWebScraping.csv')\n",
    "  # print(df)\n",
    "\n",
    "  \n",
    "  with open('C:\\\\Users\\\\91635\\\\Desktop\\\\Projects\\\\WebScrapping\\\\Amazon scraping\\\\AmznWebScraping.csv','a+',newline='',encoding='UTF8') as f:\n",
    "    writer=csv.writer(f)\n",
    "    writer.writerow(data)\n",
    "    \n",
    "  "
   ]
  },
  {
   "cell_type": "code",
   "execution_count": null,
   "metadata": {},
   "outputs": [],
   "source": [
    "if __name__ == '__main__':\n",
    "  while True:\n",
    "    check_details()\n",
    "    time_wait = 10\n",
    "    time.sleep(time_wait)"
   ]
  },
  {
   "cell_type": "code",
   "execution_count": null,
   "metadata": {},
   "outputs": [],
   "source": []
  }
 ],
 "metadata": {
  "interpreter": {
   "hash": "63fd5069d213b44bf678585dea6b12cceca9941eaf7f819626cde1f2670de90d"
  },
  "kernelspec": {
   "display_name": "Python 3.9.6 64-bit",
   "language": "python",
   "name": "python3"
  },
  "language_info": {
   "codemirror_mode": {
    "name": "ipython",
    "version": 3
   },
   "file_extension": ".py",
   "mimetype": "text/x-python",
   "name": "python",
   "nbconvert_exporter": "python",
   "pygments_lexer": "ipython3",
   "version": "3.9.6"
  },
  "orig_nbformat": 4
 },
 "nbformat": 4,
 "nbformat_minor": 2
}
