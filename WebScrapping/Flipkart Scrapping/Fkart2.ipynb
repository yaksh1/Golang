{
 "cells": [
  {
   "cell_type": "code",
   "execution_count": 1,
   "metadata": {},
   "outputs": [],
   "source": [
    "import requests\n",
    "import datetime\n",
    "from bs4 import BeautifulSoup\n",
    "import time\n",
    "from IPython.core.display import display,HTML\n"
   ]
  },
  {
   "cell_type": "code",
   "execution_count": 2,
   "metadata": {},
   "outputs": [],
   "source": [
    "url=\"https://www.flipkart.com/search?q=ghee&otracker=search&otracker1=search&marketplace=FLIPKART&as-show=on&as=off&as-pos=1&as-type=HISTORY&as-backfill=on\"\n",
    "headers = {\"User-Agent\": \"Mozilla/5.0 (Windows NT 10.0; Win64; x64) AppleWebKit/537.36 (KHTML, like Gecko) Chrome/98.0.4758.87 Safari/537.36\",\"Accept-Encoding\": \"gzip, deflate, br\",\"Accept\": \"text/html,application/xhtml+xml,application/xml;q=0.9,image/avif,image/webp,image/apng,*/*;q=0.8,application/signed-exchange;v=b3;q=0.9\",\"Connection\":\"close\",\"Upgrade-Insecure-Requests\": \"1\",}\n",
    "\n",
    "page = requests.get(url,headers=headers)\n",
    "soup = BeautifulSoup(page.content,'html.parser')\n",
    "soup = BeautifulSoup(soup.prettify(),'html.parser')"
   ]
  },
  {
   "cell_type": "code",
   "execution_count": 48,
   "metadata": {},
   "outputs": [],
   "source": [
    "items_list = soup.find_all('div',class_='_4ddWXP')\n",
    "\n",
    "for items in items_list:\n",
    "  assured= items.find('img',height='21')\n",
    "\n",
    "  if assured != None:\n",
    "    title = items.find('a',class_='s1Q9rs').text.strip()\n",
    "    price = items.find('div',class_='_30jeq3').text.strip()[1:]\n",
    "    discount = items.find('div',class_='_3Ay6Sb').text.strip() if items.find('div',class_='_3Ay6Sb') else 'No discount'\n",
    "    stars = items.find('div',class_='_3LWZlK').text.strip() if items.find('div',class_='_3LWZlK') else 'No Rating'\n",
    "    details = items.find('a',class_='s1Q9rs')['href']\n",
    "    today = datetime.date.today()\n",
    "\n",
    "\n",
    "    import csv\n",
    "    header = ['Title','Price','Discount Offered','Stars','Date']\n",
    "    data = [title,price,today,discount,stars,details]\n",
    "    \n",
    "\n",
    "    with open('C:\\\\Users\\\\91635\\\\Desktop\\\\Projects\\\\WebScrapping\\\\Flipkart Scrapping\\\\FlipkartScrap2.csv','a+',newline='',encoding='UTF8') as f:\n",
    "          writer=csv.writer(f)\n",
    "          writer.writerow(data) \n",
    "\n",
    "    \n",
    "\n",
    "\n"
   ]
  },
  {
   "cell_type": "code",
   "execution_count": null,
   "metadata": {},
   "outputs": [],
   "source": [
    "def ghee():\n",
    "  url=\"https://www.flipkart.com/search?q=ghee&otracker=search&otracker1=search&marketplace=FLIPKART&as-show=on&as=off&as-pos=1&as-type=HISTORY&as-backfill=on\"\n",
    "  headers = {\"User-Agent\": \"Mozilla/5.0 (Windows NT 10.0; Win64; x64) AppleWebKit/537.36 (KHTML, like Gecko) Chrome/98.0.4758.87 Safari/537.36\",\"Accept-Encoding\": \"gzip, deflate, br\",\"Accept\": \"text/html,application/xhtml+xml,application/xml;q=0.9,image/avif,image/webp,image/apng,*/*;q=0.8,application/signed-exchange;v=b3;q=0.9\",\"Connection\":\"close\",\"Upgrade-Insecure-Requests\": \"1\",}\n",
    "\n",
    "  page = requests.get(url,headers=headers)\n",
    "  soup = BeautifulSoup(page.content,'html.parser')\n",
    "  soup = BeautifulSoup(soup.prettify(),'html.parser')\n",
    "\n",
    "  items_list = soup.find_all('div',class_='_4ddWXP')\n",
    "\n",
    "  for items in items_list:\n",
    "    title = items.find('a',class_='s1Q9rs').text.strip()\n",
    "    price = items.find('div',class_='_30jeq3').text.strip()[1:]\n",
    "    discount = items.find('div',class_='_3Ay6Sb').text.strip() if items.find('div',class_='_3Ay6Sb') else 'No discount'\n",
    "    stars = items.find('div',class_='_3LWZlK').text.strip() if items.find('div',class_='_3LWZlK') else 'No Rating'\n",
    "    details = items.find('a',class_='s1Q9rs')['href']\n",
    "    assured= items.find('img',height='21')\n",
    "    today = datetime.date.today()\n",
    "\n",
    "\n",
    "    import csv\n",
    "    data = [title,price,today,discount,stars,details]\n",
    "    \n",
    "    if assured != None:\n",
    "      with open('C:\\\\Users\\\\91635\\\\Desktop\\\\Projects\\\\WebScrapping\\\\Flipkart Scrapping\\\\FlipkartScrap2.csv','a',newline='',encoding='UTF8') as f:\n",
    "        writer=csv.writer(f)\n",
    "        # writer.writerow(header)\n",
    "        writer.writerow(data)    \n",
    "    \n",
    "  \n",
    "  \n",
    "if __name__ == '__main__':\n",
    "  while True:\n",
    "    ghee()\n",
    "    time_wait = 86400\n",
    "    time.sleep(time_wait)"
   ]
  },
  {
   "cell_type": "code",
   "execution_count": null,
   "metadata": {},
   "outputs": [],
   "source": []
  }
 ],
 "metadata": {
  "interpreter": {
   "hash": "63fd5069d213b44bf678585dea6b12cceca9941eaf7f819626cde1f2670de90d"
  },
  "kernelspec": {
   "display_name": "Python 3.9.6 64-bit",
   "language": "python",
   "name": "python3"
  },
  "language_info": {
   "codemirror_mode": {
    "name": "ipython",
    "version": 3
   },
   "file_extension": ".py",
   "mimetype": "text/x-python",
   "name": "python",
   "nbconvert_exporter": "python",
   "pygments_lexer": "ipython3",
   "version": "3.9.6"
  },
  "orig_nbformat": 4
 },
 "nbformat": 4,
 "nbformat_minor": 2
}
