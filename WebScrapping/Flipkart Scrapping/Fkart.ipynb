{
 "cells": [
  {
   "cell_type": "code",
   "execution_count": 1,
   "metadata": {},
   "outputs": [],
   "source": [
    "import time\n",
    "import datetime \n",
    "import requests\n",
    "from bs4 import BeautifulSoup\n",
    "import pandas as pd\n",
    "import smtplib"
   ]
  },
  {
   "cell_type": "code",
   "execution_count": 2,
   "metadata": {},
   "outputs": [],
   "source": [
    "#|---------------------------------------------------------------------------|#\n",
    "#| Getting website URL\n",
    "#|---------------------------------------------------------------------------|#\n",
    "url = \"https://www.flipkart.com/search?q=iphone%2013&otracker=search&otracker1=search&marketplace=FLIPKART&as-show=on&as=off\"\n",
    "headers = {\"User-Agent\": \"Mozilla/5.0 (Windows NT 10.0; Win64; x64) AppleWebKit/537.36 (KHTML, like Gecko) Chrome/98.0.4758.87 Safari/537.36\",\"Accept-Encoding\": \"gzip, deflate, br\",\"Accept\": \"text/html,application/xhtml+xml,application/xml;q=0.9,image/avif,image/webp,image/apng,*/*;q=0.8,application/signed-exchange;v=b3;q=0.9\",\"Connection\":\"close\",\"Upgrade-Insecure-Requests\": \"1\",}\n",
    "\n",
    "page = requests.get(url,headers=headers)\n",
    "soup = BeautifulSoup(page.content,'html.parser')\n",
    "soup = BeautifulSoup(soup.prettify(),'html.parser')\n"
   ]
  },
  {
   "cell_type": "code",
   "execution_count": 4,
   "metadata": {},
   "outputs": [],
   "source": [
    "#|---------------------------------------------------------------------------|#\n",
    "#| Scraping Required Details\n",
    "#|---------------------------------------------------------------------------|#\n",
    "items_list = soup.find_all('div',class_='_3pLy-c row')\n",
    "\n",
    "for items in items_list:\n",
    "  title = items.find('div',class_='_4rR01T').text.strip()\n",
    "  # real_price = items.find('div',class_='_3I9_wc _27UcVY').text.strip().replace('  ','')[5:] if items.find('div',class_='_3I9_wc _27UcVY') else items.find('div',class_='_30jeq3 _1_WHN1').text.strip()\n",
    "  price = items.find('div',class_='_30jeq3 _1_WHN1').text.strip()[1:]\n",
    "  discount = items.find('div',class_='_3Ay6Sb').text.strip() if items.find('div',class_='_3Ay6Sb') else 'No discount'\n",
    "  ratings = items.find('span',class_='_2_R_DZ').text.strip()[0:13].replace('Ratings','')\n",
    "  reviews = items.find('span',class_='_2_R_DZ').text[90:].strip()\n",
    "  stars = items.find('div',class_='_3LWZlK').text.strip()\n",
    "  description = items.find('ul',class_='_1xgFaf').text.strip().replace('  ','')\n",
    "  today = datetime.date.today()\n",
    "  \n",
    "  import csv\n",
    "  header = ['Title','Price','Discount Offered','Ratings','Reviews','Stars','Description','Date']\n",
    "  data = [title,price,discount,ratings,reviews,stars,description,today]\n",
    "\n",
    "  with open('C:\\\\Users\\\\91635\\\\Desktop\\\\Projects\\\\WebScrapping\\\\Flipkart Scrapping\\\\FlipkartScrap.csv','w',newline='',encoding='UTF8') as f:\n",
    "    writer=csv.writer(f)\n",
    "    writer.writerow(header)\n",
    "    writer.writerow(data)\n",
    "  "
   ]
  },
  {
   "cell_type": "code",
   "execution_count": null,
   "metadata": {},
   "outputs": [],
   "source": [
    "def check_products():\n",
    "  url = \"https://www.flipkart.com/search?q=iphone%2013&otracker=search&otracker1=search&marketplace=FLIPKART&as-show=on&as=off\"\n",
    "\n",
    "  headers = {\"User-Agent\": \"Mozilla/5.0 (Windows NT 10.0; Win64; x64) AppleWebKit/537.36 (KHTML, like Gecko) Chrome/98.0.4758.87 Safari/537.36\",\"Accept-Encoding\": \"gzip, deflate, br\",\"Accept\": \"text/html,application/xhtml+xml,application/xml;q=0.9,image/avif,image/webp,image/apng,*/*;q=0.8,application/signed-exchange;v=b3;q=0.9\",\"Connection\":\"close\",\"Upgrade-Insecure-Requests\": \"1\",}\n",
    "  page = requests.get(url,headers=headers)\n",
    "  soup = BeautifulSoup(page.content,'html.parser')\n",
    "\n",
    "  soup = BeautifulSoup(soup.prettify(),'html.parser')\n",
    "  items_list = soup.find_all('div',class_='_3pLy-c row')\n",
    "\n",
    "  for items in items_list:\n",
    "    title = items.find('div',class_='_4rR01T').text.strip()\n",
    "\n",
    "    # real_price = items.find('div',class_='_3I9_wc _27UcVY').text.strip().replace('  ','')[5:] if items.find('div',class_='_3I9_wc _27UcVY') else items.find('div',class_='_30jeq3 _1_WHN1').text.strip()\n",
    "    price = items.find('div',class_='_30jeq3 _1_WHN1').text.strip()[1:]\n",
    "    discount = items.find('div',class_='_3Ay6Sb').text.strip() if items.find('div',class_='_3Ay6Sb') else 'No discount'\n",
    "    ratings = items.find('span',class_='_2_R_DZ').text.strip()[0:13].replace('Ratings','')\n",
    "    reviews = items.find('span',class_='_2_R_DZ').text[90:].strip()\n",
    "    stars = items.find('div',class_='_3LWZlK').text.strip()\n",
    "    description = items.find('ul',class_='_1xgFaf').text.strip().replace('  ','')\n",
    "    today = datetime.date.today()\n",
    "\n",
    "    import csv\n",
    "    header = ['Title','Price','Discount Offered','Ratings','Reviews','Stars','Description','Date']\n",
    "    data = [title,price,discount,ratings,reviews,stars,description,today]\n",
    "\n",
    "    with open('C:\\\\Users\\\\91635\\\\Desktop\\\\Projects\\\\WebScrapping\\\\Flipkart Scrapping\\\\FlipkartScrap.csv','a',newline='',encoding='UTF8') as f:\n",
    "      writer=csv.writer(f)\n",
    "      # writer.writerow(header)\n",
    "      writer.writerow(data)\n",
    "\n",
    "if __name__ == '__main__':\n",
    "  while True:\n",
    "    check_products()\n",
    "    time_wait = 86400\n",
    "    time.sleep(time_wait*10)"
   ]
  },
  {
   "cell_type": "code",
   "execution_count": null,
   "metadata": {},
   "outputs": [],
   "source": []
  }
 ],
 "metadata": {
  "interpreter": {
   "hash": "63fd5069d213b44bf678585dea6b12cceca9941eaf7f819626cde1f2670de90d"
  },
  "kernelspec": {
   "display_name": "Python 3.9.6 64-bit",
   "language": "python",
   "name": "python3"
  },
  "language_info": {
   "codemirror_mode": {
    "name": "ipython",
    "version": 3
   },
   "file_extension": ".py",
   "mimetype": "text/x-python",
   "name": "python",
   "nbconvert_exporter": "python",
   "pygments_lexer": "ipython3",
   "version": "3.9.6"
  },
  "orig_nbformat": 4
 },
 "nbformat": 4,
 "nbformat_minor": 2
}
